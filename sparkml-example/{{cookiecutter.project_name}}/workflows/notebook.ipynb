{
 "cells": [
  {
   "cell_type": "code",
   "execution_count": null,
   "id": "2cf45baf-76ba-4ead-8f9a-0c0538ecb372",
   "metadata": {
    "tags": [
     "parameters"
    ]
   },
   "outputs": [],
   "source": [
    "sd = None"
   ]
  },
  {
   "attachments": {},
   "cell_type": "markdown",
   "id": "92492396-c25a-45ea-aa1f-5f4662a2cfae",
   "metadata": {
    "tags": []
   },
   "source": [
    "# Grid Search Results"
   ]
  },
  {
   "cell_type": "code",
   "execution_count": null,
   "id": "21f7ce38-fb89-4682-ac46-51d97727f6a2",
   "metadata": {},
   "outputs": [],
   "source": [
    "from flytekitplugins.papermill import load_structureddataset\n",
    "import pandas as pd\n",
    "\n",
    "sd = load_structureddataset(path=sd)\n",
    "df = sd.open(pd.DataFrame).all()\n",
    "df.sort_values(by=\"metric\", ascending=True)"
   ]
  }
 ],
 "metadata": {
  "kernelspec": {
   "display_name": "Python 3 (ipykernel)",
   "language": "python",
   "name": "python3"
  },
  "language_info": {
   "codemirror_mode": {
    "name": "ipython",
    "version": 3
   },
   "file_extension": ".py",
   "mimetype": "text/x-python",
   "name": "python",
   "nbconvert_exporter": "python",
   "pygments_lexer": "ipython3",
   "version": "3.10.11"
  }
 },
 "nbformat": 4,
 "nbformat_minor": 5
}
