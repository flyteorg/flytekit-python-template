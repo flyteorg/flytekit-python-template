{
 "cells": [
  {
   "cell_type": "code",
   "execution_count": 1,
   "id": "2cf45baf-76ba-4ead-8f9a-0c0538ecb372",
   "metadata": {
    "execution": {
     "iopub.execute_input": "2023-05-15T18:41:43.518098Z",
     "iopub.status.busy": "2023-05-15T18:41:43.517830Z",
     "iopub.status.idle": "2023-05-15T18:41:43.523476Z",
     "shell.execute_reply": "2023-05-15T18:41:43.523100Z"
    },
    "papermill": {
     "duration": 0.014624,
     "end_time": "2023-05-15T18:41:43.524789",
     "exception": false,
     "start_time": "2023-05-15T18:41:43.510165",
     "status": "completed"
    },
    "tags": [
     "parameters"
    ]
   },
   "outputs": [],
   "source": [
    "sd = None"
   ]
  },
  {
   "cell_type": "code",
   "execution_count": 2,
   "id": "a22016fc",
   "metadata": {
    "execution": {
     "iopub.execute_input": "2023-05-15T18:41:43.527736Z",
     "iopub.status.busy": "2023-05-15T18:41:43.527585Z",
     "iopub.status.idle": "2023-05-15T18:41:43.529575Z",
     "shell.execute_reply": "2023-05-15T18:41:43.529225Z"
    },
    "papermill": {
     "duration": 0.004566,
     "end_time": "2023-05-15T18:41:43.530706",
     "exception": false,
     "start_time": "2023-05-15T18:41:43.526140",
     "status": "completed"
    },
    "tags": [
     "injected-parameters"
    ]
   },
   "outputs": [],
   "source": [
    "# Parameters\n",
    "sd = \"/var/folders/wf/2fbzf4jd0ls3l98_561qjsxh0000gn/T/tmp7ib3bn79bin\"\n"
   ]
  },
  {
   "attachments": {},
   "cell_type": "markdown",
   "id": "92492396-c25a-45ea-aa1f-5f4662a2cfae",
   "metadata": {
    "papermill": {
     "duration": 0.000782,
     "end_time": "2023-05-15T18:41:43.532401",
     "exception": false,
     "start_time": "2023-05-15T18:41:43.531619",
     "status": "completed"
    },
    "tags": []
   },
   "source": [
    "# Grid Search Results"
   ]
  },
  {
   "cell_type": "code",
   "execution_count": 3,
   "id": "21f7ce38-fb89-4682-ac46-51d97727f6a2",
   "metadata": {
    "execution": {
     "iopub.execute_input": "2023-05-15T18:41:43.534703Z",
     "iopub.status.busy": "2023-05-15T18:41:43.534539Z",
     "iopub.status.idle": "2023-05-15T18:41:44.445257Z",
     "shell.execute_reply": "2023-05-15T18:41:44.444948Z"
    },
    "papermill": {
     "duration": 0.913203,
     "end_time": "2023-05-15T18:41:44.446406",
     "exception": false,
     "start_time": "2023-05-15T18:41:43.533203",
     "status": "completed"
    },
    "tags": []
   },
   "outputs": [
    {
     "data": {
      "text/html": [
       "<div>\n",
       "<style scoped>\n",
       "    .dataframe tbody tr th:only-of-type {\n",
       "        vertical-align: middle;\n",
       "    }\n",
       "\n",
       "    .dataframe tbody tr th {\n",
       "        vertical-align: top;\n",
       "    }\n",
       "\n",
       "    .dataframe thead th {\n",
       "        text-align: right;\n",
       "    }\n",
       "</style>\n",
       "<table border=\"1\" class=\"dataframe\">\n",
       "  <thead>\n",
       "    <tr style=\"text-align: right;\">\n",
       "      <th></th>\n",
       "      <th>n_estimators</th>\n",
       "      <th>max_depth</th>\n",
       "      <th>learning_rate</th>\n",
       "      <th>metric</th>\n",
       "    </tr>\n",
       "  </thead>\n",
       "  <tbody>\n",
       "    <tr>\n",
       "      <th>10</th>\n",
       "      <td>150</td>\n",
       "      <td>6</td>\n",
       "      <td>0.2</td>\n",
       "      <td>0.474722</td>\n",
       "    </tr>\n",
       "    <tr>\n",
       "      <th>6</th>\n",
       "      <td>75</td>\n",
       "      <td>6</td>\n",
       "      <td>0.2</td>\n",
       "      <td>0.484049</td>\n",
       "    </tr>\n",
       "    <tr>\n",
       "      <th>9</th>\n",
       "      <td>150</td>\n",
       "      <td>3</td>\n",
       "      <td>0.5</td>\n",
       "      <td>0.485762</td>\n",
       "    </tr>\n",
       "    <tr>\n",
       "      <th>8</th>\n",
       "      <td>150</td>\n",
       "      <td>3</td>\n",
       "      <td>0.2</td>\n",
       "      <td>0.497056</td>\n",
       "    </tr>\n",
       "    <tr>\n",
       "      <th>5</th>\n",
       "      <td>75</td>\n",
       "      <td>3</td>\n",
       "      <td>0.5</td>\n",
       "      <td>0.502161</td>\n",
       "    </tr>\n",
       "    <tr>\n",
       "      <th>7</th>\n",
       "      <td>75</td>\n",
       "      <td>6</td>\n",
       "      <td>0.5</td>\n",
       "      <td>0.507049</td>\n",
       "    </tr>\n",
       "    <tr>\n",
       "      <th>3</th>\n",
       "      <td>30</td>\n",
       "      <td>6</td>\n",
       "      <td>0.5</td>\n",
       "      <td>0.508982</td>\n",
       "    </tr>\n",
       "    <tr>\n",
       "      <th>2</th>\n",
       "      <td>30</td>\n",
       "      <td>6</td>\n",
       "      <td>0.2</td>\n",
       "      <td>0.509446</td>\n",
       "    </tr>\n",
       "    <tr>\n",
       "      <th>11</th>\n",
       "      <td>150</td>\n",
       "      <td>6</td>\n",
       "      <td>0.5</td>\n",
       "      <td>0.512198</td>\n",
       "    </tr>\n",
       "    <tr>\n",
       "      <th>4</th>\n",
       "      <td>75</td>\n",
       "      <td>3</td>\n",
       "      <td>0.2</td>\n",
       "      <td>0.524165</td>\n",
       "    </tr>\n",
       "    <tr>\n",
       "      <th>1</th>\n",
       "      <td>30</td>\n",
       "      <td>3</td>\n",
       "      <td>0.5</td>\n",
       "      <td>0.528138</td>\n",
       "    </tr>\n",
       "    <tr>\n",
       "      <th>0</th>\n",
       "      <td>30</td>\n",
       "      <td>3</td>\n",
       "      <td>0.2</td>\n",
       "      <td>0.567383</td>\n",
       "    </tr>\n",
       "  </tbody>\n",
       "</table>\n",
       "</div>"
      ],
      "text/plain": [
       "    n_estimators  max_depth  learning_rate    metric\n",
       "10           150          6            0.2  0.474722\n",
       "6             75          6            0.2  0.484049\n",
       "9            150          3            0.5  0.485762\n",
       "8            150          3            0.2  0.497056\n",
       "5             75          3            0.5  0.502161\n",
       "7             75          6            0.5  0.507049\n",
       "3             30          6            0.5  0.508982\n",
       "2             30          6            0.2  0.509446\n",
       "11           150          6            0.5  0.512198\n",
       "4             75          3            0.2  0.524165\n",
       "1             30          3            0.5  0.528138\n",
       "0             30          3            0.2  0.567383"
      ]
     },
     "execution_count": 3,
     "metadata": {},
     "output_type": "execute_result"
    }
   ],
   "source": [
    "from flytekitplugins.papermill import load_structureddataset\n",
    "import pandas as pd\n",
    "\n",
    "sd = load_structureddataset(path=sd)\n",
    "df = sd.open(pd.DataFrame).all()\n",
    "df.sort_values(by=\"metric\", ascending=True)"
   ]
  }
 ],
 "metadata": {
  "kernelspec": {
   "display_name": "Python 3 (ipykernel)",
   "language": "python",
   "name": "python3"
  },
  "language_info": {
   "codemirror_mode": {
    "name": "ipython",
    "version": 3
   },
   "file_extension": ".py",
   "mimetype": "text/x-python",
   "name": "python",
   "nbconvert_exporter": "python",
   "pygments_lexer": "ipython3",
   "version": "3.10.11"
  },
  "papermill": {
   "default_parameters": {},
   "duration": 1.905863,
   "end_time": "2023-05-15T18:41:44.663939",
   "environment_variables": {},
   "exception": null,
   "input_path": "/Users/esad/Documents/union/flytekit-python-template/sparkml-example/workflows/notebook.ipynb",
   "output_path": "/Users/esad/Documents/union/flytekit-python-template/sparkml-example/workflows/notebook-out.ipynb",
   "parameters": {
    "sd": "/var/folders/wf/2fbzf4jd0ls3l98_561qjsxh0000gn/T/tmp7ib3bn79bin"
   },
   "start_time": "2023-05-15T18:41:42.758076",
   "version": "2.4.0"
  }
 },
 "nbformat": 4,
 "nbformat_minor": 5
}